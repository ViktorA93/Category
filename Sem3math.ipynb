{
  "nbformat": 4,
  "nbformat_minor": 0,
  "metadata": {
    "colab": {
      "provenance": [],
      "authorship_tag": "ABX9TyNLzMu+ldvzOX8e4ng2M9qr",
      "include_colab_link": true
    },
    "kernelspec": {
      "name": "python3",
      "display_name": "Python 3"
    },
    "language_info": {
      "name": "python"
    }
  },
  "cells": [
    {
      "cell_type": "markdown",
      "metadata": {
        "id": "view-in-github",
        "colab_type": "text"
      },
      "source": [
        "<a href=\"https://colab.research.google.com/github/ViktorA93/Category/blob/main/Sem3math.ipynb\" target=\"_parent\"><img src=\"https://colab.research.google.com/assets/colab-badge.svg\" alt=\"Open In Colab\"/></a>"
      ]
    },
    {
      "cell_type": "markdown",
      "source": [
        "Задание5\n",
        "Найти среднее арифметическое для выборки:\n",
        " 77, 79, 67, 95, 87, 91, 98, 100, 104, 105\n",
        "Найти медиану\n",
        "Найти интерквартильное расстояние"
      ],
      "metadata": {
        "id": "G8LmC8ZY3czj"
      }
    },
    {
      "cell_type": "code",
      "source": [
        "a = [77, 79, 67, 95, 87, 91, 98, 100, 104, 105]\n",
        "sum = 0\n",
        "for i in a:\n",
        "  sum += i\n",
        "SA = sum/len(a)\n",
        "SA"
      ],
      "metadata": {
        "id": "voqVD8lJ35z8",
        "colab": {
          "base_uri": "https://localhost:8080/"
        },
        "outputId": "dec80c8c-adb1-48eb-e467-513129d8c2f1"
      },
      "execution_count": null,
      "outputs": [
        {
          "output_type": "execute_result",
          "data": {
            "text/plain": [
              "90.3"
            ]
          },
          "metadata": {},
          "execution_count": 8
        }
      ]
    },
    {
      "cell_type": "code",
      "source": [
        "НАХОДИМ МЕДИАНУ"
      ],
      "metadata": {
        "id": "j4X-8ikg9Pl4"
      },
      "execution_count": null,
      "outputs": []
    },
    {
      "cell_type": "code",
      "source": [
        "N = 0\n",
        "a.sort()\n",
        "if len(a) % 2 == 0:\n",
        "  N1 = len(a)//2-1\n",
        "  N2 = len(a)//2\n",
        "  M = (a[N1] + a[N2])/2\n",
        "else:\n",
        "  N = len(a)/2\n",
        "  M = a[N]\n",
        "M\n"
      ],
      "metadata": {
        "colab": {
          "base_uri": "https://localhost:8080/"
        },
        "id": "sqO3ciNB35xF",
        "outputId": "ddc4dcb2-8c92-4b73-fc63-3f76e6f4df99"
      },
      "execution_count": null,
      "outputs": [
        {
          "output_type": "execute_result",
          "data": {
            "text/plain": [
              "93.0"
            ]
          },
          "metadata": {},
          "execution_count": 18
        }
      ]
    },
    {
      "cell_type": "markdown",
      "source": [
        "Находим квантили"
      ],
      "metadata": {
        "id": "p5Xjz6yA9TC4"
      }
    },
    {
      "cell_type": "code",
      "source": [
        "n = len(a)\n",
        "k = 25\n",
        "K1 = n*k/100\n",
        "K1\n",
        "K3 = n*75/100\n",
        "K3\n",
        "print('1квантиль:', 2)\n",
        "print('3квантиль:', 3)\n",
        "print('интерквантильное расстояние: ', a[7]-a[2])"
      ],
      "metadata": {
        "colab": {
          "base_uri": "https://localhost:8080/"
        },
        "id": "zWoC8Pk135gy",
        "outputId": "c1a638b5-d879-4f13-9716-a2587c9c37c2"
      },
      "execution_count": null,
      "outputs": [
        {
          "output_type": "stream",
          "name": "stdout",
          "text": [
            "1квантиль: 2\n",
            "3квантиль: 3\n",
            "интерквантильное расстояние:  21\n"
          ]
        }
      ]
    }
  ]
}